{
 "cells": [
  {
   "cell_type": "markdown",
   "metadata": {},
   "source": [
    "<P>The below is some code I wrote as Data Analyst to understand how entities were differently distributed across events within different sites</p>"
   ]
  },
  {
   "cell_type": "code",
   "execution_count": null,
   "metadata": {
    "collapsed": true
   },
   "outputs": [],
   "source": [
    "import numpy as np\n",
    "import pandas as pd\n",
    "import vertica_python as vp\n",
    "import datetime as dt\n",
    "import math\n",
    "import matplotlib as mpl\n",
    "import matplotlib.pyplot as plt\n",
    "import seaborn as sns\n",
    "\n",
    "# Command so that plots appear in the iPython Notebook\n",
    "%matplotlib inline"
   ]
  },
  {
   "cell_type": "code",
   "execution_count": 63,
   "metadata": {
    "collapsed": false
   },
   "outputs": [
    {
     "data": {
      "text/plain": [
       "<IPython.core.display.Javascript object>"
      ]
     },
     "metadata": {},
     "output_type": "display_data"
    }
   ],
   "source": [
    "%%javascript\n",
    "IPython.OutputArea.auto_scroll_threshold = 500;"
   ]
  },
  {
   "cell_type": "code",
   "execution_count": 31,
   "metadata": {
    "collapsed": true
   },
   "outputs": [],
   "source": [
    "import vertica_python as vp\n",
    "%run /Users/eric.abis/Documents/credential.py"
   ]
  },
  {
   "cell_type": "code",
   "execution_count": 82,
   "metadata": {
    "collapsed": false
   },
   "outputs": [
    {
     "name": "stdout",
     "output_type": "stream",
     "text": [
      "Pulling Data\n"
     ]
    }
   ],
   "source": [
    "sql_string = \"\"\" \n",
    "\n",
    "\n",
    "\n",
    "        SELECT display_name, entity_id, \n",
    "                --pct_of_events, \n",
    "                SUM(pct_of_events) OVER (PARTITION BY site_id  ORDER BY site_id, pct_of_events desc RANGE BETWEEN UNBOUNDED PRECEDING AND CURRENT ROW) as pct_events_cum_sum,\n",
    "                --pct_of_properties,                        \n",
    "                SUM(pct_of_properties) OVER (PARTITION BY site_id  ORDER BY site_id, pct_of_events desc RANGE BETWEEN UNBOUNDED PRECEDING AND CURRENT ROW) as pct_prop_cum_sum,\n",
    "                SUM(1) OVER (PARTITION BY site_id  ORDER BY site_id, pct_of_events desc RANGE BETWEEN UNBOUNDED PRECEDING AND CURRENT ROW) as count_of_properties\n",
    "        FROM\n",
    "                (\n",
    "                SELECT site_id, entity_id, \n",
    "                (count(*)/SUM(count(*)) OVER (PARTITION BY site_id)) * 100 as pct_of_events,  100/count(entity_id) OVER (PARTITION BY site_id) as pct_of_properties\n",
    "                FROM company_log_data_production.events a\n",
    "                WHERE\n",
    "                    ad_unit_type = 'PRODUCT_1' \n",
    "                    AND a.Filter_Field_1 = false \n",
    "                    AND Filter_Field_2 = 'FILTER_VALUE' \n",
    "                GROUP BY 1,2\n",
    "                HAVING count(*) > 0\n",
    "                ORDER BY 1,3 DESC\n",
    "                ) main\n",
    "                \n",
    "                INNER JOIN company.sites s on s.id = site_id \n",
    "        ORDER BY display_name, pct_of_events desc;\n",
    "                \n",
    "\n",
    "\n",
    "            \"\"\"\n",
    "\n",
    "print 'Pulling Data'\n",
    "\n",
    "conn = vp.connect(**conn_info)\n",
    "data = pd.read_sql_query(sql_string, conn)\n",
    "data.head()"
   ]
  },
  {
   "cell_type": "code",
   "execution_count": 186,
   "metadata": {
    "collapsed": true
   },
   "outputs": [],
   "source": [
    "copied = data[data[\"display_name\"].isin([\n",
    "\"Entity_1\",\n",
    "\"Entity_2\",\n",
    "\"Entity_3\",\n",
    "\"Entity_4\",\n",
    "\"Entity_5\",\n",
    "\"Entity_6\",\n",
    "\"Entity_7\"])].copy()"
   ]
  },
  {
   "cell_type": "code",
   "execution_count": null,
   "metadata": {
    "collapsed": false
   },
   "outputs": [],
   "source": [
    "# copied.set_index([\"pct_prop_cum_sum\", \"count_of_properties\"], inplace = True)\n",
    "# dropped = data.drop([\"display_name\", \"hotel_property_id\", \"pct_prop_cum_sum\"], axis = 1)\n",
    "grouped = copied.groupby(\"display_name\")\n",
    "\n",
    "fig, ax = plt.subplots(figsize = (20,15))\n",
    "\n",
    "for site, results in grouped: \n",
    "\n",
    "    plt.tick_params(axis='both', labelsize=15)\n",
    "    ax.plot(results[\"pct_prop_cum_sum\"], \n",
    "            results[\"pct_ad_calls_cum_sum\"],\n",
    "           label = site)\n",
    "    ax.set_xlabel(\"Percent of Properties\", fontsize=25)\n",
    "    ax.set_ylabel(\"Percent of Ad Calls\", fontsize = 25)\n",
    "\n",
    "    # copied.set_index([\"pct_prop_cum_sum\", \"count_of_properties\"], inplace = True)\n",
    "    # dropped = data.drop([\"display_name\", \"hotel_property_id\", \"pct_prop_cum_sum\"], axis = 1)\n",
    "ax.legend(loc = 'best', fontsize = 22, bbox_to_anchor=(-.05,1))\n",
    "    \n",
    "fig, ax = plt.subplots(figsize = (20,15))\n",
    "\n",
    "for site, results in grouped:     \n",
    "    \n",
    "    plt.tick_params(axis='both', labelsize=15)\n",
    "    ax.plot(results[\"count_of_properties\"].values, \n",
    "            results[\"pct_ad_calls_cum_sum\"],\n",
    "            label = site)\n",
    "    ax.set_xlabel(\"Count of Properties\", fontsize=25)\n",
    "    ax.set_ylabel(\"Percent of Ad Calls\", fontsize = 25)\n",
    "    \n",
    "ax.legend(loc = 'best', fontsize = 22, bbox_to_anchor=(-.05,1))"
   ]
  },
  {
   "cell_type": "markdown",
   "metadata": {
    "collapsed": true
   },
   "source": [
    "<img src=\"pic1.png\">"
   ]
  },
  {
   "cell_type": "markdown",
   "metadata": {},
   "source": [
    "<img src=\"pic2.png\">"
   ]
  },
  {
   "cell_type": "code",
   "execution_count": null,
   "metadata": {
    "collapsed": true
   },
   "outputs": [],
   "source": [
    ""
   ]
  }
 ],
 "metadata": {
  "kernelspec": {
   "display_name": "Python 2",
   "language": "python",
   "name": "python2"
  },
  "language_info": {
   "codemirror_mode": {
    "name": "ipython",
    "version": 2.0
   },
   "file_extension": ".py",
   "mimetype": "text/x-python",
   "name": "python",
   "nbconvert_exporter": "python",
   "pygments_lexer": "ipython2",
   "version": "2.7.10"
  }
 },
 "nbformat": 4,
 "nbformat_minor": 0
}